{
 "cells": [
  {
   "metadata": {},
   "cell_type": "markdown",
   "source": [
    "Excercise 1:\n",
    "Make a little piece of ASCII art with print functions in python. You can first try it out here in the notebook. After you are satisfied with your result, save it as a .py file"
   ],
   "id": "3a402535f85bfb94"
  },
  {
   "metadata": {
    "ExecuteTime": {
     "end_time": "2025-04-10T18:03:48.562982Z",
     "start_time": "2025-04-10T18:03:48.560481Z"
    }
   },
   "cell_type": "code",
   "source": [
    "print('Boy shows his father stinky fish:')\n",
    "print('                                       _W_ ')\n",
    "print('      _~_                             (O_O)' )\n",
    "print('     ( ^-^)                         /(   o   )\\\\ ')\n",
    "print('   /(   x   )\\\\         ( ( (       /  | | | |  \\\\ ')\n",
    "print('  o  | | | |  o         ) ) )     O   | | | |   O ')\n",
    "print(\"     '_' '_'           >+++°>         |_| |_|   \")"
   ],
   "id": "5cf9f71a4391fcf",
   "outputs": [
    {
     "name": "stdout",
     "output_type": "stream",
     "text": [
      "Boy shows his father stinky fish:\n",
      "                                       _W_ \n",
      "      _~_                             (O_O)\n",
      "     ( ^-^)                         /(   o   )\\ \n",
      "   /(   x   )\\         ( ( (       /  | | | |  \\ \n",
      "  o  | | | |  o         ) ) )     O   | | | |   O \n",
      "     '_' '_'           >+++°>         |_| |_|   \n"
     ]
    }
   ],
   "execution_count": 6
  },
  {
   "metadata": {
    "ExecuteTime": {
     "end_time": "2025-04-10T18:03:48.573727Z",
     "start_time": "2025-04-10T18:03:48.572297Z"
    }
   },
   "cell_type": "code",
   "source": "",
   "id": "b80e41a8d40a05c2",
   "outputs": [],
   "execution_count": null
  }
 ],
 "metadata": {
  "kernelspec": {
   "display_name": "Python 3",
   "language": "python",
   "name": "python3"
  },
  "language_info": {
   "codemirror_mode": {
    "name": "ipython",
    "version": 2
   },
   "file_extension": ".py",
   "mimetype": "text/x-python",
   "name": "python",
   "nbconvert_exporter": "python",
   "pygments_lexer": "ipython2",
   "version": "2.7.6"
  }
 },
 "nbformat": 4,
 "nbformat_minor": 5
}
