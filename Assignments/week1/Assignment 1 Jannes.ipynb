{
 "cells": [
  {
   "metadata": {},
   "cell_type": "markdown",
   "source": [
    "Excercise 1:\n",
    "Make a little piece of ASCII art with print functions in python. You can first try it out here in the notebook. After you are satisfied with your result, save it as a .py file"
   ],
   "id": "3a402535f85bfb94"
  },
  {
   "metadata": {
    "ExecuteTime": {
     "end_time": "2025-04-08T21:37:48.936156Z",
     "start_time": "2025-04-08T21:37:48.933405Z"
    }
   },
   "cell_type": "code",
   "source": [
    "print(\"Boy shows his father stinky fish:\")\n",
    "print(\"                                       _W_ \")\n",
    "print(\"      _~_                             (O_O)\" )\n",
    "print(\"     ( ^-^)                         /(   o   )\\ \")\n",
    "print(\"   /(   x   )\\         ( ( (       /  | | | |  \\ \")\n",
    "print(\"  o  | | | |  o         ) ) )      O   | | | |   O \")\n",
    "print(\"     '_' '_'           >+++°>         '_' '_'   \")"
   ],
   "id": "5cf9f71a4391fcf",
   "outputs": [
    {
     "name": "stdout",
     "output_type": "stream",
     "text": [
      "Boy shows his father stinky fish:\n",
      "                                       _W_ \n",
      "      _~_                             (O_O)\n",
      "     ( ^-^)                         /(   o   )\\ \n",
      "   /(   x   )\\         ( ( (       /  | | | |  \\ \n",
      "  o  | | | |  o         ) ) )      O   | | | |   O \n",
      "     '_' '_'           >+++°>         '_' '_'   \n"
     ]
    },
    {
     "name": "stderr",
     "output_type": "stream",
     "text": [
      "<>:4: SyntaxWarning: invalid escape sequence '\\ '\n",
      "<>:5: SyntaxWarning: invalid escape sequence '\\ '\n",
      "<>:4: SyntaxWarning: invalid escape sequence '\\ '\n",
      "<>:5: SyntaxWarning: invalid escape sequence '\\ '\n",
      "C:\\Users\\schmi\\AppData\\Local\\Temp\\ipykernel_13096\\4004841153.py:4: SyntaxWarning: invalid escape sequence '\\ '\n",
      "  print(\"     ( ^-^)                         /(   o   )\\ \")\n",
      "C:\\Users\\schmi\\AppData\\Local\\Temp\\ipykernel_13096\\4004841153.py:5: SyntaxWarning: invalid escape sequence '\\ '\n",
      "  print(\"   /(   x   )\\         ( ( (       /  | | | |  \\ \")\n"
     ]
    }
   ],
   "execution_count": 34
  }
 ],
 "metadata": {
  "kernelspec": {
   "display_name": "Python 3",
   "language": "python",
   "name": "python3"
  },
  "language_info": {
   "codemirror_mode": {
    "name": "ipython",
    "version": 2
   },
   "file_extension": ".py",
   "mimetype": "text/x-python",
   "name": "python",
   "nbconvert_exporter": "python",
   "pygments_lexer": "ipython2",
   "version": "2.7.6"
  }
 },
 "nbformat": 4,
 "nbformat_minor": 5
}
