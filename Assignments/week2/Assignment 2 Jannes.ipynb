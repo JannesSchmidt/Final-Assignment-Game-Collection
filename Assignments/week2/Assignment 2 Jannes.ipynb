{
 "cells": [
  {
   "metadata": {
    "ExecuteTime": {
     "end_time": "2025-04-10T19:00:35.788781Z",
     "start_time": "2025-04-10T19:00:35.784766Z"
    }
   },
   "cell_type": "code",
   "source": "\"Test of touch command in Git Bash ^-^\"",
   "id": "5cc033655879b75c",
   "outputs": [
    {
     "data": {
      "text/plain": [
       "'Test of touch command in Git Bash'"
      ]
     },
     "execution_count": 2,
     "metadata": {},
     "output_type": "execute_result"
    }
   ],
   "execution_count": 2
  }
 ],
 "metadata": {
  "kernelspec": {
   "name": "python3",
   "language": "python",
   "display_name": "Python 3 (ipykernel)"
  }
 },
 "nbformat": 5,
 "nbformat_minor": 9
}
